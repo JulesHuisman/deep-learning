{
 "cells": [
  {
   "cell_type": "code",
   "execution_count": 1,
   "metadata": {},
   "outputs": [],
   "source": [
    "%load_ext autoreload\n",
    "%autoreload 2"
   ]
  },
  {
   "cell_type": "code",
   "execution_count": 2,
   "metadata": {},
   "outputs": [],
   "source": [
    "import numpy as np\n",
    "import pandas as pd\n",
    "\n",
    "np.set_printoptions(suppress=True)"
   ]
  },
  {
   "cell_type": "code",
   "execution_count": 3,
   "metadata": {},
   "outputs": [
    {
     "name": "stderr",
     "output_type": "stream",
     "text": [
      "Using TensorFlow backend.\n"
     ]
    }
   ],
   "source": [
    "from stocks import Stocks\n",
    "from agents.dsrqn import DSRQN\n",
    "from environment import Env\n",
    "from simulation import Simulation\n",
    "from utils import *\n",
    "from visualizations import *"
   ]
  },
  {
   "cell_type": "code",
   "execution_count": 6,
   "metadata": {},
   "outputs": [],
   "source": [
    "from keras.models import Sequential, Model\n",
    "from keras.layers import Dense, Conv2D, Input, Lambda, Reshape, Flatten, MaxPooling2D, AveragePooling1D, LSTM, concatenate\n",
    "from keras.optimizers import Adam\n",
    "from keras import backend as K\n",
    "from scipy.special import softmax"
   ]
  },
  {
   "cell_type": "code",
   "execution_count": 7,
   "metadata": {},
   "outputs": [
    {
     "data": {
      "text/plain": [
       "(1, 30, 3)"
      ]
     },
     "execution_count": 7,
     "metadata": {},
     "output_type": "execute_result"
    }
   ],
   "source": [
    "stocks = Stocks(['AAPL', 'BA', 'GE'], start='2012-1-1', end='2017-1-1')\n",
    "agent  = DSRQN()\n",
    "env    = Env(stocks=stocks)\n",
    "env._counter = 30\n",
    "\n",
    "action_size = len(env.universe)\n",
    "\n",
    "env.state.shape"
   ]
  },
  {
   "cell_type": "code",
   "execution_count": 8,
   "metadata": {},
   "outputs": [
    {
     "data": {
      "image/png": "[encoded data removed]",
      "text/plain": [
       "<IPython.core.display.Image object>"
      ]
     },
     "execution_count": 8,
     "metadata": {},
     "output_type": "execute_result"
    }
   ],
   "source": [
    "historic_input = Input(shape=(None, (action_size-1)), name='historic_input')\n",
    "position_input = Input(shape=(action_size,), name='position_input')\n",
    "\n",
    "lstm = LSTM(32, activation='relu', name='lstm')(historic_input)\n",
    "\n",
    "x = concatenate([lstm, position_input], name='merge')\n",
    "\n",
    "fc = Dense(32, activation='relu', name='dense')(x)\n",
    "\n",
    "y = Dense(action_size, activation='linear', name='output')(fc)\n",
    "\n",
    "# model = Model(X, y)\n",
    "model = Model(inputs=[historic_input, position_input], outputs=y)\n",
    "\n",
    "model.compile(loss='mse', optimizer=Adam(lr=0.001))\n",
    "\n",
    "from keras.utils import plot_model\n",
    "plot_model(model, to_file='model.png')"
   ]
  },
  {
   "cell_type": "code",
   "execution_count": 9,
   "metadata": {},
   "outputs": [
    {
     "name": "stdout",
     "output_type": "stream",
     "text": [
      "Epoch 1/1\n",
      "1/1 [==============================] - 0s 293ms/step - loss: 0.1075\n"
     ]
    },
    {
     "data": {
      "text/plain": [
       "<keras.callbacks.callbacks.History at 0x7f361ff73240>"
      ]
     },
     "execution_count": 9,
     "metadata": {},
     "output_type": "execute_result"
    }
   ],
   "source": [
    "model.fit([env.state, np.array([[0.1,0.2,0.2,0.5]])], np.array([[0.1,0.2,0.2,0.5]]))"
   ]
  },
  {
   "cell_type": "code",
   "execution_count": 10,
   "metadata": {},
   "outputs": [
    {
     "data": {
      "text/plain": [
       "array([[ 0.07439261, -0.10261533,  0.06550945, -0.04639372]],\n",
       "      dtype=float32)"
      ]
     },
     "execution_count": 10,
     "metadata": {},
     "output_type": "execute_result"
    }
   ],
   "source": [
    "model.predict([env.state, np.array([[0.1,0.2,0.2,0.5]])])"
   ]
  },
  {
   "cell_type": "code",
   "execution_count": null,
   "metadata": {},
   "outputs": [],
   "source": []
  }
 ],
 "metadata": {
  "kernelspec": {
   "display_name": "Python 3",
   "language": "python",
   "name": "python3"
  },
  "language_info": {
   "codemirror_mode": {
    "name": "ipython",
    "version": 3
   },
   "file_extension": ".py",
   "mimetype": "text/x-python",
   "name": "python",
   "nbconvert_exporter": "python",
   "pygments_lexer": "ipython3",
   "version": "3.7.3"
  }
 },
 "nbformat": 4,
 "nbformat_minor": 2
}
