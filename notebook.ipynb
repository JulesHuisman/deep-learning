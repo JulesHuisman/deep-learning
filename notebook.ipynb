{
 "cells": [
  {
   "cell_type": "code",
   "execution_count": 1,
   "metadata": {},
   "outputs": [],
   "source": [
    "%load_ext autoreload\n",
    "%autoreload 2"
   ]
  },
  {
   "cell_type": "code",
   "execution_count": 8,
   "metadata": {
    "code_folding": [],
    "scrolled": false
   },
   "outputs": [],
   "source": [
    "from game import Game\n",
    "from connect_net import ConnectNet\n",
    "from nodes import DummyNode, Node, print_tree\n",
    "\n",
    "import matplotlib.pyplot as plt\n",
    "import numpy as np\n",
    "\n",
    "game = Game()\n",
    "net = ConnectNet()"
   ]
  },
  {
   "cell_type": "markdown",
   "metadata": {},
   "source": [
    "## Game nodes"
   ]
  },
  {
   "cell_type": "code",
   "execution_count": null,
   "metadata": {
    "scrolled": false
   },
   "outputs": [],
   "source": [
    "model = get_model()\n",
    "dataset = self_play(model, 10)\n",
    "\n",
    "boards = []\n",
    "policies = []\n",
    "values = []\n",
    "\n",
    "for board, policy, value in dataset:\n",
    "    boards.append(board)\n",
    "    policies.append(policy)\n",
    "    values.append(value)\n",
    "    \n",
    "boards = np.array(boards)\n",
    "policies = np.array(policies)\n",
    "values = np.array(values)\n",
    "\n",
    "model.fit(boards, [policies, values], batch_size=32, shuffle=True, epochs=10)"
   ]
  }
 ],
 "metadata": {
  "kernelspec": {
   "display_name": "Python 3",
   "language": "python",
   "name": "python3"
  },
  "language_info": {
   "codemirror_mode": {
    "name": "ipython",
    "version": 3
   },
   "file_extension": ".py",
   "mimetype": "text/x-python",
   "name": "python",
   "nbconvert_exporter": "python",
   "pygments_lexer": "ipython3",
   "version": "3.7.3"
  }
 },
 "nbformat": 4,
 "nbformat_minor": 2
}
