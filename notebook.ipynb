{
 "cells": [
  {
   "cell_type": "code",
   "execution_count": 1,
   "metadata": {},
   "outputs": [],
   "source": [
    "%load_ext autoreload\n",
    "%autoreload 2"
   ]
  },
  {
   "cell_type": "code",
   "execution_count": 51,
   "metadata": {
    "code_folding": [],
    "scrolled": false
   },
   "outputs": [],
   "source": [
    "from game import Game\n",
    "from connect_net import ConnectNet\n",
    "from nodes import DummyNode, Node, print_tree\n",
    "from simulation import Simulation\n",
    "from memory import Memory\n",
    "\n",
    "import matplotlib.pyplot as plt\n",
    "import numpy as np"
   ]
  },
  {
   "cell_type": "code",
   "execution_count": 69,
   "metadata": {},
   "outputs": [
    {
     "name": "stdout",
     "output_type": "stream",
     "text": [
      "Memory size: 5000 \n",
      "\n"
     ]
    }
   ],
   "source": [
    "memory = Memory(folder=f'data/ConnectNet-V1/memory', size=5000)"
   ]
  },
  {
   "cell_type": "code",
   "execution_count": 60,
   "metadata": {},
   "outputs": [],
   "source": [
    "from collections import deque"
   ]
  },
  {
   "cell_type": "code",
   "execution_count": 62,
   "metadata": {},
   "outputs": [],
   "source": [
    "a = deque(maxlen=5)"
   ]
  },
  {
   "cell_type": "code",
   "execution_count": 66,
   "metadata": {},
   "outputs": [],
   "source": [
    "a.appendleft(2)"
   ]
  },
  {
   "cell_type": "code",
   "execution_count": 47,
   "metadata": {},
   "outputs": [
    {
     "data": {
      "text/plain": [
       "-1"
      ]
     },
     "execution_count": 47,
     "metadata": {},
     "output_type": "execute_result"
    }
   ],
   "source": [
    "game = Game()\n",
    "game.player"
   ]
  },
  {
   "cell_type": "code",
   "execution_count": 50,
   "metadata": {},
   "outputs": [
    {
     "name": "stdout",
     "output_type": "stream",
     "text": [
      "Starting: -1\n",
      "1 False\n",
      "[[' ' ' ' ' ' ' ' ' ' ' ' ' ']\n",
      " [' ' ' ' ' ' ' ' ' ' ' ' ' ']\n",
      " [' ' ' ' ' ' ' ' ' ' ' ' ' ']\n",
      " [' ' ' ' ' ' ' ' ' ' ' ' ' ']\n",
      " [' ' ' ' ' ' ' ' ' ' ' ' ' ']\n",
      " [' ' ' ' ' ' ' ' \u001b[95m'X'\u001b[0m ' ' ' ']]\n",
      "-1 False\n",
      "[[' ' ' ' ' ' ' ' ' ' ' ' ' ']\n",
      " [' ' ' ' ' ' ' ' ' ' ' ' ' ']\n",
      " [' ' ' ' ' ' ' ' ' ' ' ' ' ']\n",
      " [' ' ' ' ' ' ' ' ' ' ' ' ' ']\n",
      " [' ' ' ' ' ' ' ' ' ' ' ' ' ']\n",
      " [' ' ' ' ' ' \u001b[92m'O'\u001b[0m \u001b[95m'X'\u001b[0m ' ' ' ']]\n",
      "1 False\n",
      "[[' ' ' ' ' ' ' ' ' ' ' ' ' ']\n",
      " [' ' ' ' ' ' ' ' ' ' ' ' ' ']\n",
      " [' ' ' ' ' ' ' ' ' ' ' ' ' ']\n",
      " [' ' ' ' ' ' ' ' ' ' ' ' ' ']\n",
      " [' ' ' ' ' ' ' ' \u001b[95m'X'\u001b[0m ' ' ' ']\n",
      " [' ' ' ' ' ' \u001b[92m'O'\u001b[0m \u001b[95m'X'\u001b[0m ' ' ' ']]\n",
      "-1 False\n",
      "[[' ' ' ' ' ' ' ' ' ' ' ' ' ']\n",
      " [' ' ' ' ' ' ' ' ' ' ' ' ' ']\n",
      " [' ' ' ' ' ' ' ' ' ' ' ' ' ']\n",
      " [' ' ' ' ' ' ' ' ' ' ' ' ' ']\n",
      " [' ' ' ' ' ' \u001b[92m'O'\u001b[0m \u001b[95m'X'\u001b[0m ' ' ' ']\n",
      " [' ' ' ' ' ' \u001b[92m'O'\u001b[0m \u001b[95m'X'\u001b[0m ' ' ' ']]\n",
      "1 False\n",
      "[[' ' ' ' ' ' ' ' ' ' ' ' ' ']\n",
      " [' ' ' ' ' ' ' ' ' ' ' ' ' ']\n",
      " [' ' ' ' ' ' ' ' ' ' ' ' ' ']\n",
      " [' ' ' ' ' ' ' ' \u001b[95m'X'\u001b[0m ' ' ' ']\n",
      " [' ' ' ' ' ' \u001b[92m'O'\u001b[0m \u001b[95m'X'\u001b[0m ' ' ' ']\n",
      " [' ' ' ' ' ' \u001b[92m'O'\u001b[0m \u001b[95m'X'\u001b[0m ' ' ' ']]\n",
      "-1 False\n",
      "[[' ' ' ' ' ' ' ' ' ' ' ' ' ']\n",
      " [' ' ' ' ' ' ' ' ' ' ' ' ' ']\n",
      " [' ' ' ' ' ' ' ' ' ' ' ' ' ']\n",
      " [' ' ' ' ' ' \u001b[92m'O'\u001b[0m \u001b[95m'X'\u001b[0m ' ' ' ']\n",
      " [' ' ' ' ' ' \u001b[92m'O'\u001b[0m \u001b[95m'X'\u001b[0m ' ' ' ']\n",
      " [' ' ' ' ' ' \u001b[92m'O'\u001b[0m \u001b[95m'X'\u001b[0m ' ' ' ']]\n",
      "1 True\n",
      "[[' ' ' ' ' ' ' ' ' ' ' ' ' ']\n",
      " [' ' ' ' ' ' ' ' ' ' ' ' ' ']\n",
      " [' ' ' ' ' ' ' ' \u001b[95m'X'\u001b[0m ' ' ' ']\n",
      " [' ' ' ' ' ' \u001b[92m'O'\u001b[0m \u001b[95m'X'\u001b[0m ' ' ' ']\n",
      " [' ' ' ' ' ' \u001b[92m'O'\u001b[0m \u001b[95m'X'\u001b[0m ' ' ' ']\n",
      " [' ' ' ' ' ' \u001b[92m'O'\u001b[0m \u001b[95m'X'\u001b[0m ' ' ' ']]\n"
     ]
    }
   ],
   "source": [
    "game = Game()\n",
    "print('Starting:', game.player)\n",
    "\n",
    "seq = [4,3,4,3,4,3,4]\n",
    "\n",
    "for move in seq:\n",
    "    game.play(move)\n",
    "    print(game.player, game.won())\n",
    "    game.presentation()"
   ]
  },
  {
   "cell_type": "code",
   "execution_count": null,
   "metadata": {},
   "outputs": [],
   "source": []
  },
  {
   "cell_type": "code",
   "execution_count": null,
   "metadata": {},
   "outputs": [],
   "source": []
  },
  {
   "cell_type": "code",
   "execution_count": null,
   "metadata": {},
   "outputs": [],
   "source": []
  },
  {
   "cell_type": "code",
   "execution_count": null,
   "metadata": {},
   "outputs": [],
   "source": []
  },
  {
   "cell_type": "code",
   "execution_count": null,
   "metadata": {},
   "outputs": [],
   "source": []
  },
  {
   "cell_type": "code",
   "execution_count": 3,
   "metadata": {},
   "outputs": [
    {
     "name": "stdout",
     "output_type": "stream",
     "text": [
      "[[' ' ' ' ' ' ' ' ' ' ' ' ' ']\n",
      " [' ' ' ' ' ' ' ' ' ' ' ' ' ']\n",
      " [' ' ' ' ' ' ' ' ' ' ' ' ' ']\n",
      " [' ' ' ' ' ' ' ' ' ' ' ' ' ']\n",
      " [' ' \u001b[95m'X'\u001b[0m ' ' ' ' ' ' \u001b[95m'X'\u001b[0m ' ']\n",
      " [\u001b[92m'O'\u001b[0m \u001b[92m'O'\u001b[0m \u001b[92m'O'\u001b[0m ' ' ' ' \u001b[95m'X'\u001b[0m ' ']]\n"
     ]
    }
   ],
   "source": [
    "game = Game()\n",
    "\n",
    "game.board[5, 0] = 1\n",
    "game.board[4, 1] = -1\n",
    "game.board[5, 1] = 1\n",
    "game.board[5, 5] = -1\n",
    "game.board[5, 2] = 1\n",
    "game.board[4, 5] = -1\n",
    "\n",
    "game.presentation()"
   ]
  },
  {
   "cell_type": "code",
   "execution_count": 4,
   "metadata": {},
   "outputs": [
    {
     "data": {
      "text/plain": [
       "[array([[0.14, 0.14, 0.15, 0.15, 0.14, 0.14, 0.13]], dtype=float32),\n",
       " array([[0.03]], dtype=float32)]"
      ]
     },
     "execution_count": 4,
     "metadata": {},
     "output_type": "execute_result"
    }
   ],
   "source": [
    "net = ConnectNet('ConnectNet-V1')\n",
    "net.load(3)\n",
    "net.model.predict(np.array([game.encoded()]))"
   ]
  },
  {
   "cell_type": "code",
   "execution_count": 7,
   "metadata": {},
   "outputs": [
    {
     "name": "stdout",
     "output_type": "stream",
     "text": [
      "3.84 ms ± 23 µs per loop (mean ± std. dev. of 7 runs, 100 loops each)\n"
     ]
    }
   ],
   "source": [
    "%%timeit\n",
    "net.model.predict(np.array([game.encoded()]))"
   ]
  },
  {
   "cell_type": "code",
   "execution_count": 26,
   "metadata": {},
   "outputs": [],
   "source": [
    "from memory import Memory\n",
    "mem = Memory('data/ConnectNet-V1/memory', 1000)"
   ]
  },
  {
   "cell_type": "code",
   "execution_count": 28,
   "metadata": {},
   "outputs": [
    {
     "data": {
      "text/plain": [
       "119"
      ]
     },
     "execution_count": 28,
     "metadata": {},
     "output_type": "execute_result"
    }
   ],
   "source": [
    "mem.latest_game"
   ]
  },
  {
   "cell_type": "code",
   "execution_count": 27,
   "metadata": {},
   "outputs": [
    {
     "data": {
      "text/plain": [
       "['game-119.npy',\n",
       " 'game-118.npy',\n",
       " 'game-117.npy',\n",
       " 'game-116.npy',\n",
       " 'game-115.npy',\n",
       " 'game-114.npy',\n",
       " 'game-113.npy',\n",
       " 'game-112.npy',\n",
       " 'game-111.npy',\n",
       " 'game-110.npy',\n",
       " 'game-109.npy',\n",
       " 'game-108.npy',\n",
       " 'game-107.npy',\n",
       " 'game-106.npy',\n",
       " 'game-105.npy',\n",
       " 'game-104.npy',\n",
       " 'game-103.npy',\n",
       " 'game-102.npy',\n",
       " 'game-101.npy',\n",
       " 'game-100.npy',\n",
       " 'game-99.npy',\n",
       " 'game-98.npy',\n",
       " 'game-97.npy',\n",
       " 'game-96.npy',\n",
       " 'game-95.npy',\n",
       " 'game-94.npy',\n",
       " 'game-93.npy',\n",
       " 'game-92.npy',\n",
       " 'game-91.npy',\n",
       " 'game-90.npy',\n",
       " 'game-89.npy',\n",
       " 'game-88.npy',\n",
       " 'game-87.npy',\n",
       " 'game-86.npy',\n",
       " 'game-85.npy',\n",
       " 'game-84.npy',\n",
       " 'game-83.npy',\n",
       " 'game-82.npy',\n",
       " 'game-81.npy',\n",
       " 'game-80.npy',\n",
       " 'game-79.npy',\n",
       " 'game-78.npy',\n",
       " 'game-77.npy',\n",
       " 'game-76.npy',\n",
       " 'game-75.npy',\n",
       " 'game-74.npy',\n",
       " 'game-73.npy',\n",
       " 'game-72.npy',\n",
       " 'game-71.npy',\n",
       " 'game-70.npy',\n",
       " 'game-69.npy',\n",
       " 'game-68.npy',\n",
       " 'game-67.npy',\n",
       " 'game-66.npy',\n",
       " 'game-65.npy',\n",
       " 'game-64.npy',\n",
       " 'game-63.npy',\n",
       " 'game-62.npy',\n",
       " 'game-61.npy',\n",
       " 'game-60.npy',\n",
       " 'game-59.npy',\n",
       " 'game-58.npy',\n",
       " 'game-57.npy',\n",
       " 'game-56.npy',\n",
       " 'game-55.npy',\n",
       " 'game-54.npy',\n",
       " 'game-53.npy',\n",
       " 'game-52.npy',\n",
       " 'game-51.npy',\n",
       " 'game-50.npy',\n",
       " 'game-49.npy',\n",
       " 'game-48.npy',\n",
       " 'game-47.npy',\n",
       " 'game-46.npy',\n",
       " 'game-45.npy',\n",
       " 'game-44.npy',\n",
       " 'game-43.npy',\n",
       " 'game-42.npy',\n",
       " 'game-41.npy',\n",
       " 'game-40.npy',\n",
       " 'game-39.npy',\n",
       " 'game-38.npy',\n",
       " 'game-37.npy',\n",
       " 'game-36.npy',\n",
       " 'game-35.npy',\n",
       " 'game-34.npy',\n",
       " 'game-33.npy',\n",
       " 'game-32.npy',\n",
       " 'game-31.npy',\n",
       " 'game-30.npy',\n",
       " 'game-29.npy',\n",
       " 'game-28.npy',\n",
       " 'game-27.npy',\n",
       " 'game-26.npy',\n",
       " 'game-25.npy',\n",
       " 'game-24.npy',\n",
       " 'game-23.npy',\n",
       " 'game-22.npy',\n",
       " 'game-21.npy',\n",
       " 'game-20.npy',\n",
       " 'game-19.npy',\n",
       " 'game-18.npy',\n",
       " 'game-17.npy',\n",
       " 'game-16.npy',\n",
       " 'game-15.npy',\n",
       " 'game-14.npy',\n",
       " 'game-13.npy',\n",
       " 'game-12.npy',\n",
       " 'game-11.npy',\n",
       " 'game-10.npy',\n",
       " 'game-9.npy',\n",
       " 'game-8.npy',\n",
       " 'game-7.npy',\n",
       " 'game-6.npy',\n",
       " 'game-5.npy',\n",
       " 'game-4.npy',\n",
       " 'game-3.npy',\n",
       " 'game-2.npy',\n",
       " 'game-1.npy',\n",
       " 'game-0.npy']"
      ]
     },
     "execution_count": 27,
     "metadata": {},
     "output_type": "execute_result"
    }
   ],
   "source": [
    "mem.sorted_games"
   ]
  }
 ],
 "metadata": {
  "kernelspec": {
   "display_name": "Python 3",
   "language": "python",
   "name": "python3"
  },
  "language_info": {
   "codemirror_mode": {
    "name": "ipython",
    "version": 3
   },
   "file_extension": ".py",
   "mimetype": "text/x-python",
   "name": "python",
   "nbconvert_exporter": "python",
   "pygments_lexer": "ipython3",
   "version": "3.7.3"
  }
 },
 "nbformat": 4,
 "nbformat_minor": 2
}
