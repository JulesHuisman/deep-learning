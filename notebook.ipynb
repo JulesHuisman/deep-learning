{
 "cells": [
  {
   "cell_type": "code",
   "execution_count": 1,
   "metadata": {},
   "outputs": [],
   "source": [
    "%load_ext autoreload\n",
    "%autoreload 2"
   ]
  },
  {
   "cell_type": "code",
   "execution_count": 2,
   "metadata": {
    "code_folding": [],
    "scrolled": false
   },
   "outputs": [],
   "source": [
    "from game import Game\n",
    "from connect_net import ConnectNet\n",
    "from nodes import DummyNode, Node\n",
    "from simulation import Simulation\n",
    "from memory import Memory\n",
    "\n",
    "import matplotlib.pyplot as plt\n",
    "import numpy as np\n",
    "\n",
    "np.set_printoptions(precision=3)"
   ]
  },
  {
   "cell_type": "code",
   "execution_count": 35,
   "metadata": {
    "scrolled": true
   },
   "outputs": [
    {
     "name": "stdout",
     "output_type": "stream",
     "text": [
      "Memory size: 80000\n"
     ]
    }
   ],
   "source": [
    "memory = Memory(folder='data/DeepFour-V0/memory', size=80000)\n",
    "memory.load_memories()\n",
    "\n",
    "print('Memory size:', len(memory.memory))"
   ]
  },
  {
   "cell_type": "code",
   "execution_count": 36,
   "metadata": {},
   "outputs": [
    {
     "data": {
      "text/plain": [
       "-0.1606625"
      ]
     },
     "execution_count": 36,
     "metadata": {},
     "output_type": "execute_result"
    }
   ],
   "source": [
    "values = [value for board, policy, value in memory.memory]\n",
    "np.mean(values)"
   ]
  },
  {
   "cell_type": "code",
   "execution_count": 37,
   "metadata": {},
   "outputs": [
    {
     "name": "stdout",
     "output_type": "stream",
     "text": [
      "[0.19 0.12 0.12 0.16 0.16 0.11 0.13]\n",
      "[0.21 0.13 0.12 0.15 0.16 0.1  0.13]\n",
      "[0.19 0.13 0.13 0.16 0.16 0.11 0.13]\n",
      "[0.18 0.12 0.13 0.16 0.16 0.11 0.13]\n",
      "[0.2  0.12 0.13 0.14 0.17 0.11 0.13]\n",
      "[0.19 0.13 0.12 0.14 0.16 0.11 0.14]\n",
      "[0.19 0.12 0.13 0.15 0.16 0.12 0.13]\n",
      "[0.19 0.12 0.13 0.16 0.15 0.11 0.13]\n",
      "[0.19 0.12 0.12 0.17 0.16 0.1  0.14]\n",
      "[0.18 0.13 0.12 0.17 0.16 0.11 0.13]\n"
     ]
    }
   ],
   "source": [
    "for training in range(10):\n",
    "    boards, policies, values = memory.get_minibatch(1024)\n",
    "#     print(np.mean(values))\n",
    "    print(np.mean(policies, 0))"
   ]
  },
  {
   "cell_type": "code",
   "execution_count": 44,
   "metadata": {},
   "outputs": [],
   "source": [
    "zero = ConnectNet('DeepFour-V2')\n",
    "zero.save(0)"
   ]
  },
  {
   "cell_type": "code",
   "execution_count": 41,
   "metadata": {},
   "outputs": [
    {
     "name": "stdout",
     "output_type": "stream",
     "text": [
      "Loaded network: \u001b[94mDeepFour-V0-0\u001b[0m\n",
      "Loaded memory of size: 80000\n",
      "-0.1533203125\n",
      "Epoch 1/1\n",
      "1024/1024 [==============================] - 4s 4ms/step - loss: 2.7398 - policy_loss: 1.7587 - value_loss: 0.8865\n",
      "-0.189453125\n",
      "Epoch 1/1\n",
      "1024/1024 [==============================] - 2s 2ms/step - loss: 2.7978 - policy_loss: 1.7835 - value_loss: 0.9213\n",
      "-0.1181640625\n",
      "Epoch 1/1\n",
      "1024/1024 [==============================] - 2s 2ms/step - loss: 2.7995 - policy_loss: 1.7668 - value_loss: 0.9404\n",
      "-0.21484375\n",
      "Epoch 1/1\n",
      "1024/1024 [==============================] - 2s 2ms/step - loss: 2.7578 - policy_loss: 1.7732 - value_loss: 0.8916\n",
      "-0.1953125\n",
      "Epoch 1/1\n",
      "1024/1024 [==============================] - 2s 2ms/step - loss: 2.7210 - policy_loss: 1.7699 - value_loss: 0.8576\n",
      "-0.158203125\n",
      "Epoch 1/1\n",
      "1024/1024 [==============================] - 2s 2ms/step - loss: 2.7780 - policy_loss: 1.7846 - value_loss: 0.8997\n",
      "-0.1416015625\n",
      "Epoch 1/1\n",
      "1024/1024 [==============================] - 2s 2ms/step - loss: 2.7803 - policy_loss: 1.7939 - value_loss: 0.8928\n",
      "-0.1865234375\n",
      "Epoch 1/1\n",
      "1024/1024 [==============================] - 2s 2ms/step - loss: 2.7396 - policy_loss: 1.7797 - value_loss: 0.8664\n",
      "-0.1484375\n",
      "Epoch 1/1\n",
      "1024/1024 [==============================] - 2s 2ms/step - loss: 2.7514 - policy_loss: 1.7738 - value_loss: 0.8846\n",
      "-0.1806640625\n",
      "Epoch 1/1\n",
      "1024/1024 [==============================] - 2s 2ms/step - loss: 2.7157 - policy_loss: 1.7500 - value_loss: 0.8734\n"
     ]
    }
   ],
   "source": [
    "zero = ConnectNet('DeepFour-V0')\n",
    "zero.load(0)\n",
    "\n",
    "def train(memory, net):\n",
    "    # Load games from storage into working memory\n",
    "    memory.load_memories()\n",
    "\n",
    "    # If the memory is not filled yet, continue self play\n",
    "    if not memory.filled:\n",
    "        print(f'Memory not filled yet ({len(memory.memory)})')\n",
    "        return\n",
    "    else:\n",
    "        print('Loaded memory of size:', len(memory.memory))\n",
    "\n",
    "    for training in range(10):\n",
    "        # Sample a minibatch\n",
    "        boards, policies, values = memory.get_minibatch(1024)\n",
    "\n",
    "        print(np.mean(values))\n",
    "\n",
    "        # Train the model\n",
    "        net.model.fit(boards, [policies, values], batch_size=32, shuffle=False, epochs=1)\n",
    "\n",
    "    net.save('current')\n",
    "    \n",
    "train(memory, zero)"
   ]
  },
  {
   "cell_type": "code",
   "execution_count": 45,
   "metadata": {},
   "outputs": [],
   "source": [
    "# The simulation environment\n",
    "simulation = Simulation(net_name='DeepFour-V2',\n",
    "                        games_per_iteration=64,\n",
    "                        moves_per_game=256,\n",
    "                        memory_size=80000,\n",
    "                        minibatch_size=256,\n",
    "                        training_loops=10,\n",
    "                        workers=16)"
   ]
  },
  {
   "cell_type": "code",
   "execution_count": 190,
   "metadata": {},
   "outputs": [],
   "source": [
    "from scipy.special import softmax"
   ]
  },
  {
   "cell_type": "code",
   "execution_count": 230,
   "metadata": {},
   "outputs": [
    {
     "data": {
      "text/plain": [
       "array([0.17, 0.12, 0.17, 0.12, 0.13, 0.16, 0.13])"
      ]
     },
     "execution_count": 230,
     "metadata": {},
     "output_type": "execute_result"
    }
   ],
   "source": [
    "softmax(np.random.uniform(.3, .7, size=(7)))"
   ]
  },
  {
   "cell_type": "code",
   "execution_count": 182,
   "metadata": {},
   "outputs": [
    {
     "data": {
      "text/plain": [
       "-0.4434203957654287"
      ]
     },
     "execution_count": 182,
     "metadata": {},
     "output_type": "execute_result"
    }
   ],
   "source": [
    "np.tanh(np.random.uniform(-.5, .5))"
   ]
  },
  {
   "cell_type": "code",
   "execution_count": 231,
   "metadata": {
    "scrolled": false
   },
   "outputs": [
    {
     "name": "stdout",
     "output_type": "stream",
     "text": [
      "Game: 0 Move: \u001b[95mX\u001b[0m (53 ms) \n",
      "\n",
      "Value:   0.02\n",
      "Q value: 0.03 \n",
      "\n",
      "Policy:      | 0.13 | 0.15 | 0.14 | 0.14 | 0.13 | 0.18 | 0.13 |\n",
      "Policy pred: | 0.12 | 0.12 | 0.14 | 0.20 | 0.10 | 0.17 | 0.15 |\n",
      "\n",
      "[[' ' ' ' ' ' ' ' ' ' ' ' ' ']\n",
      " [' ' ' ' ' ' ' ' ' ' ' ' ' ']\n",
      " [' ' ' ' ' ' ' ' ' ' ' ' ' ']\n",
      " [' ' ' ' ' ' ' ' ' ' ' ' ' ']\n",
      " [' ' ' ' ' ' ' ' ' ' ' ' ' ']\n",
      " [' ' ' ' ' ' ' ' \u001b[95m'X'\u001b[0m ' ' ' ']]\n",
      "\n",
      "Game: 0 Move: \u001b[92mO\u001b[0m (61 ms) \n",
      "\n",
      "Value:   -0.0\n",
      "Q value: -0.05 \n",
      "\n",
      "Policy:      | 0.13 | 0.14 | 0.16 | 0.13 | 0.14 | 0.15 | 0.15 |\n",
      "Policy pred: | 0.14 | 0.14 | 0.15 | 0.14 | 0.14 | 0.15 | 0.14 |\n",
      "\n",
      "[[' ' ' ' ' ' ' ' ' ' ' ' ' ']\n",
      " [' ' ' ' ' ' ' ' ' ' ' ' ' ']\n",
      " [' ' ' ' ' ' ' ' ' ' ' ' ' ']\n",
      " [' ' ' ' ' ' ' ' ' ' ' ' ' ']\n",
      " [' ' ' ' ' ' ' ' ' ' ' ' ' ']\n",
      " [\u001b[92m'O'\u001b[0m ' ' ' ' ' ' \u001b[95m'X'\u001b[0m ' ' ' ']]\n",
      "\n",
      "Game: 0 Move: \u001b[95mX\u001b[0m (61 ms) \n",
      "\n",
      "Value:   0.03\n",
      "Q value: -0.0 \n",
      "\n",
      "Policy:      | 0.17 | 0.15 | 0.12 | 0.13 | 0.15 | 0.13 | 0.15 |\n",
      "Policy pred: | 0.12 | 0.12 | 0.14 | 0.20 | 0.10 | 0.17 | 0.15 |\n",
      "\n",
      "[[' ' ' ' ' ' ' ' ' ' ' ' ' ']\n",
      " [' ' ' ' ' ' ' ' ' ' ' ' ' ']\n",
      " [' ' ' ' ' ' ' ' ' ' ' ' ' ']\n",
      " [' ' ' ' ' ' ' ' ' ' ' ' ' ']\n",
      " [' ' ' ' ' ' ' ' ' ' ' ' ' ']\n",
      " [\u001b[92m'O'\u001b[0m \u001b[95m'X'\u001b[0m ' ' ' ' \u001b[95m'X'\u001b[0m ' ' ' ']]\n",
      "\n",
      "Game: 0 Move: \u001b[92mO\u001b[0m (62 ms) \n",
      "\n",
      "Value:   0.0\n",
      "Q value: 0.03 \n",
      "\n",
      "Policy:      | 0.16 | 0.16 | 0.13 | 0.16 | 0.14 | 0.11 | 0.14 |\n",
      "Policy pred: | 0.14 | 0.14 | 0.15 | 0.15 | 0.14 | 0.15 | 0.14 |\n",
      "\n",
      "[[' ' ' ' ' ' ' ' ' ' ' ' ' ']\n",
      " [' ' ' ' ' ' ' ' ' ' ' ' ' ']\n",
      " [' ' ' ' ' ' ' ' ' ' ' ' ' ']\n",
      " [' ' ' ' ' ' ' ' ' ' ' ' ' ']\n",
      " [' ' ' ' ' ' ' ' ' ' ' ' ' ']\n",
      " [\u001b[92m'O'\u001b[0m \u001b[95m'X'\u001b[0m ' ' \u001b[92m'O'\u001b[0m \u001b[95m'X'\u001b[0m ' ' ' ']]\n",
      "\n",
      "Game: 0 Move: \u001b[95mX\u001b[0m (63 ms) \n",
      "\n",
      "Value:   0.02\n",
      "Q value: 0.04 \n",
      "\n",
      "Policy:      | 0.16 | 0.12 | 0.14 | 0.13 | 0.13 | 0.16 | 0.16 |\n",
      "Policy pred: | 0.12 | 0.13 | 0.14 | 0.20 | 0.10 | 0.17 | 0.15 |\n",
      "\n",
      "[[' ' ' ' ' ' ' ' ' ' ' ' ' ']\n",
      " [' ' ' ' ' ' ' ' ' ' ' ' ' ']\n",
      " [' ' ' ' ' ' ' ' ' ' ' ' ' ']\n",
      " [' ' ' ' ' ' ' ' ' ' ' ' ' ']\n",
      " [' ' \u001b[95m'X'\u001b[0m ' ' ' ' ' ' ' ' ' ']\n",
      " [\u001b[92m'O'\u001b[0m \u001b[95m'X'\u001b[0m ' ' \u001b[92m'O'\u001b[0m \u001b[95m'X'\u001b[0m ' ' ' ']]\n",
      "\n",
      "Game: 0 Move: \u001b[92mO\u001b[0m (64 ms) \n",
      "\n",
      "Value:   0.0\n",
      "Q value: -0.05 \n",
      "\n",
      "Policy:      | 0.14 | 0.15 | 0.12 | 0.14 | 0.15 | 0.13 | 0.16 |\n",
      "Policy pred: | 0.14 | 0.14 | 0.15 | 0.14 | 0.14 | 0.15 | 0.14 |\n",
      "\n",
      "[[' ' ' ' ' ' ' ' ' ' ' ' ' ']\n",
      " [' ' ' ' ' ' ' ' ' ' ' ' ' ']\n",
      " [' ' ' ' ' ' ' ' ' ' ' ' ' ']\n",
      " [' ' ' ' ' ' ' ' ' ' ' ' ' ']\n",
      " [' ' \u001b[95m'X'\u001b[0m ' ' ' ' ' ' ' ' ' ']\n",
      " [\u001b[92m'O'\u001b[0m \u001b[95m'X'\u001b[0m \u001b[92m'O'\u001b[0m \u001b[92m'O'\u001b[0m \u001b[95m'X'\u001b[0m ' ' ' ']]\n",
      "\n",
      "Game: 0 Move: \u001b[95mX\u001b[0m (62 ms) \n",
      "\n",
      "Value:   0.01\n",
      "Q value: -0.07 \n",
      "\n",
      "Policy:      | 0.13 | 0.20 | 0.12 | 0.12 | 0.14 | 0.12 | 0.16 |\n",
      "Policy pred: | 0.12 | 0.13 | 0.15 | 0.20 | 0.10 | 0.16 | 0.15 |\n",
      "\n",
      "[[' ' ' ' ' ' ' ' ' ' ' ' ' ']\n",
      " [' ' ' ' ' ' ' ' ' ' ' ' ' ']\n",
      " [' ' ' ' ' ' ' ' ' ' ' ' ' ']\n",
      " [' ' ' ' ' ' ' ' ' ' ' ' ' ']\n",
      " [' ' \u001b[95m'X'\u001b[0m \u001b[95m'X'\u001b[0m ' ' ' ' ' ' ' ']\n",
      " [\u001b[92m'O'\u001b[0m \u001b[95m'X'\u001b[0m \u001b[92m'O'\u001b[0m \u001b[92m'O'\u001b[0m \u001b[95m'X'\u001b[0m ' ' ' ']]\n",
      "\n",
      "Game: 0 Move: \u001b[92mO\u001b[0m (64 ms) \n",
      "\n",
      "Value:   0.0\n",
      "Q value: 0.01 \n",
      "\n",
      "Policy:      | 0.12 | 0.13 | 0.15 | 0.12 | 0.15 | 0.17 | 0.16 |\n",
      "Policy pred: | 0.14 | 0.14 | 0.14 | 0.14 | 0.14 | 0.14 | 0.15 |\n",
      "\n",
      "[[' ' ' ' ' ' ' ' ' ' ' ' ' ']\n",
      " [' ' ' ' ' ' ' ' ' ' ' ' ' ']\n",
      " [' ' ' ' ' ' ' ' ' ' ' ' ' ']\n",
      " [' ' ' ' ' ' ' ' ' ' ' ' ' ']\n",
      " [' ' \u001b[95m'X'\u001b[0m \u001b[95m'X'\u001b[0m ' ' \u001b[92m'O'\u001b[0m ' ' ' ']\n",
      " [\u001b[92m'O'\u001b[0m \u001b[95m'X'\u001b[0m \u001b[92m'O'\u001b[0m \u001b[92m'O'\u001b[0m \u001b[95m'X'\u001b[0m ' ' ' ']]\n",
      "\n",
      "Game: 0 Move: \u001b[95mX\u001b[0m (64 ms) \n",
      "\n",
      "Value:   -0.02\n",
      "Q value: 0.01 \n",
      "\n",
      "Policy:      | 0.13 | 0.14 | 0.14 | 0.20 | 0.15 | 0.15 | 0.10 |\n",
      "Policy pred: | 0.12 | 0.12 | 0.15 | 0.20 | 0.10 | 0.17 | 0.14 |\n",
      "\n",
      "[[' ' ' ' ' ' ' ' ' ' ' ' ' ']\n",
      " [' ' ' ' ' ' ' ' ' ' ' ' ' ']\n",
      " [' ' ' ' ' ' ' ' ' ' ' ' ' ']\n",
      " [' ' ' ' \u001b[95m'X'\u001b[0m ' ' ' ' ' ' ' ']\n",
      " [' ' \u001b[95m'X'\u001b[0m \u001b[95m'X'\u001b[0m ' ' \u001b[92m'O'\u001b[0m ' ' ' ']\n",
      " [\u001b[92m'O'\u001b[0m \u001b[95m'X'\u001b[0m \u001b[92m'O'\u001b[0m \u001b[92m'O'\u001b[0m \u001b[95m'X'\u001b[0m ' ' ' ']]\n",
      "\n",
      "Game: 0 Move: \u001b[92mO\u001b[0m (61 ms) \n",
      "\n",
      "Value:   -0.02\n",
      "Q value: -0.02 \n",
      "\n",
      "Policy:      | 0.17 | 0.12 | 0.13 | 0.17 | 0.15 | 0.13 | 0.13 |\n",
      "Policy pred: | 0.14 | 0.14 | 0.15 | 0.14 | 0.13 | 0.14 | 0.14 |\n",
      "\n",
      "[[' ' ' ' ' ' ' ' ' ' ' ' ' ']\n",
      " [' ' ' ' ' ' ' ' ' ' ' ' ' ']\n",
      " [' ' ' ' \u001b[92m'O'\u001b[0m ' ' ' ' ' ' ' ']\n",
      " [' ' ' ' \u001b[95m'X'\u001b[0m ' ' ' ' ' ' ' ']\n",
      " [' ' \u001b[95m'X'\u001b[0m \u001b[95m'X'\u001b[0m ' ' \u001b[92m'O'\u001b[0m ' ' ' ']\n",
      " [\u001b[92m'O'\u001b[0m \u001b[95m'X'\u001b[0m \u001b[92m'O'\u001b[0m \u001b[92m'O'\u001b[0m \u001b[95m'X'\u001b[0m ' ' ' ']]\n",
      "\n",
      "Game: 0 Move: \u001b[95mX\u001b[0m (58 ms) \n",
      "\n",
      "Value:   -0.02\n",
      "Q value: -0.01 \n",
      "\n",
      "Policy:      | 0.17 | 0.16 | 0.14 | 0.18 | 0.13 | 0.11 | 0.11 |\n",
      "Policy pred: | 0.12 | 0.12 | 0.15 | 0.20 | 0.10 | 0.17 | 0.14 |\n",
      "\n",
      "[[' ' ' ' ' ' ' ' ' ' ' ' ' ']\n",
      " [' ' ' ' \u001b[95m'X'\u001b[0m ' ' ' ' ' ' ' ']\n",
      " [' ' ' ' \u001b[92m'O'\u001b[0m ' ' ' ' ' ' ' ']\n",
      " [' ' ' ' \u001b[95m'X'\u001b[0m ' ' ' ' ' ' ' ']\n",
      " [' ' \u001b[95m'X'\u001b[0m \u001b[95m'X'\u001b[0m ' ' \u001b[92m'O'\u001b[0m ' ' ' ']\n",
      " [\u001b[92m'O'\u001b[0m \u001b[95m'X'\u001b[0m \u001b[92m'O'\u001b[0m \u001b[92m'O'\u001b[0m \u001b[95m'X'\u001b[0m ' ' ' ']]\n",
      "\n",
      "Game: 0 Move: \u001b[92mO\u001b[0m (60 ms) \n",
      "\n",
      "Value:   -0.0\n",
      "Q value: -0.04 \n",
      "\n",
      "Policy:      | 0.18 | 0.05 | 0.11 | 0.31 | 0.18 | 0.11 | 0.06 |\n",
      "Policy pred: | 0.14 | 0.14 | 0.15 | 0.15 | 0.13 | 0.15 | 0.14 |\n",
      "\n",
      "[[' ' ' ' ' ' ' ' ' ' ' ' ' ']\n",
      " [' ' ' ' \u001b[95m'X'\u001b[0m ' ' ' ' ' ' ' ']\n",
      " [' ' ' ' \u001b[92m'O'\u001b[0m ' ' ' ' ' ' ' ']\n",
      " [' ' ' ' \u001b[95m'X'\u001b[0m ' ' ' ' ' ' ' ']\n",
      " [' ' \u001b[95m'X'\u001b[0m \u001b[95m'X'\u001b[0m ' ' \u001b[92m'O'\u001b[0m ' ' ' ']\n",
      " [\u001b[92m'O'\u001b[0m \u001b[95m'X'\u001b[0m \u001b[92m'O'\u001b[0m \u001b[92m'O'\u001b[0m \u001b[95m'X'\u001b[0m \u001b[92m'O'\u001b[0m ' ']]\n",
      "\n",
      "Game: 0 Move: \u001b[95mX\u001b[0m (61 ms) \n",
      "\n",
      "Value:   -0.02\n",
      "Q value: -0.12 \n",
      "\n",
      "Policy:      | 0.82 | 0.07 | 0.01 | 0.00 | 0.11 | 0.00 | 0.00 |\n",
      "Policy pred: | 0.12 | 0.12 | 0.16 | 0.20 | 0.10 | 0.17 | 0.14 |\n",
      "\n",
      "[[' ' ' ' ' ' ' ' ' ' ' ' ' ']\n",
      " [' ' ' ' \u001b[95m'X'\u001b[0m ' ' ' ' ' ' ' ']\n",
      " [' ' ' ' \u001b[92m'O'\u001b[0m ' ' ' ' ' ' ' ']\n",
      " [' ' ' ' \u001b[95m'X'\u001b[0m ' ' ' ' ' ' ' ']\n",
      " [\u001b[95m'X'\u001b[0m \u001b[95m'X'\u001b[0m \u001b[95m'X'\u001b[0m ' ' \u001b[92m'O'\u001b[0m ' ' ' ']\n",
      " [\u001b[92m'O'\u001b[0m \u001b[95m'X'\u001b[0m \u001b[92m'O'\u001b[0m \u001b[92m'O'\u001b[0m \u001b[95m'X'\u001b[0m \u001b[92m'O'\u001b[0m ' ']]\n",
      "\n",
      "Game: 0 Move: \u001b[92mO\u001b[0m (49 ms) \n",
      "\n",
      "Value:   0.0\n",
      "Q value: 0.09 \n",
      "\n",
      "Policy:      | 0.00 | 0.00 | 0.00 | 1.00 | 0.00 | 0.00 | 0.00 |\n",
      "Policy pred: | 0.14 | 0.14 | 0.15 | 0.15 | 0.13 | 0.15 | 0.15 |\n",
      "\n",
      "[[' ' ' ' ' ' ' ' ' ' ' ' ' ']\n",
      " [' ' ' ' \u001b[95m'X'\u001b[0m ' ' ' ' ' ' ' ']\n",
      " [' ' ' ' \u001b[92m'O'\u001b[0m ' ' ' ' ' ' ' ']\n",
      " [' ' ' ' \u001b[95m'X'\u001b[0m ' ' ' ' ' ' ' ']\n",
      " [\u001b[95m'X'\u001b[0m \u001b[95m'X'\u001b[0m \u001b[95m'X'\u001b[0m \u001b[92m'O'\u001b[0m \u001b[92m'O'\u001b[0m ' ' ' ']\n",
      " [\u001b[92m'O'\u001b[0m \u001b[95m'X'\u001b[0m \u001b[92m'O'\u001b[0m \u001b[92m'O'\u001b[0m \u001b[95m'X'\u001b[0m \u001b[92m'O'\u001b[0m ' ']]\n",
      "\n",
      "Game: 0 Move: \u001b[95mX\u001b[0m (51 ms) \n",
      "\n",
      "Value:   -0.02\n",
      "Q value: -0.01 \n",
      "\n",
      "Policy:      | 0.00 | 0.00 | 0.00 | 1.00 | 0.00 | 0.00 | 0.00 |\n",
      "Policy pred: | 0.12 | 0.12 | 0.16 | 0.20 | 0.10 | 0.17 | 0.14 |\n",
      "\n",
      "[[' ' ' ' ' ' ' ' ' ' ' ' ' ']\n",
      " [' ' ' ' \u001b[95m'X'\u001b[0m ' ' ' ' ' ' ' ']\n",
      " [' ' ' ' \u001b[92m'O'\u001b[0m ' ' ' ' ' ' ' ']\n",
      " [' ' ' ' \u001b[95m'X'\u001b[0m \u001b[95m'X'\u001b[0m ' ' ' ' ' ']\n",
      " [\u001b[95m'X'\u001b[0m \u001b[95m'X'\u001b[0m \u001b[95m'X'\u001b[0m \u001b[92m'O'\u001b[0m \u001b[92m'O'\u001b[0m ' ' ' ']\n",
      " [\u001b[92m'O'\u001b[0m \u001b[95m'X'\u001b[0m \u001b[92m'O'\u001b[0m \u001b[92m'O'\u001b[0m \u001b[95m'X'\u001b[0m \u001b[92m'O'\u001b[0m ' ']]\n",
      "\n",
      "Game: 0 Move: \u001b[92mO\u001b[0m (63 ms) \n",
      "\n",
      "Value:   0.0\n",
      "Q value: 0.08 \n",
      "\n",
      "Policy:      | 0.22 | 0.08 | 0.02 | 0.11 | 0.00 | 0.54 | 0.02 |\n",
      "Policy pred: | 0.14 | 0.14 | 0.15 | 0.14 | 0.12 | 0.16 | 0.15 |\n",
      "\n",
      "[[' ' ' ' ' ' ' ' ' ' ' ' ' ']\n",
      " [' ' ' ' \u001b[95m'X'\u001b[0m ' ' ' ' ' ' ' ']\n",
      " [' ' ' ' \u001b[92m'O'\u001b[0m ' ' ' ' ' ' ' ']\n",
      " [' ' ' ' \u001b[95m'X'\u001b[0m \u001b[95m'X'\u001b[0m ' ' ' ' ' ']\n",
      " [\u001b[95m'X'\u001b[0m \u001b[95m'X'\u001b[0m \u001b[95m'X'\u001b[0m \u001b[92m'O'\u001b[0m \u001b[92m'O'\u001b[0m \u001b[92m'O'\u001b[0m ' ']\n",
      " [\u001b[92m'O'\u001b[0m \u001b[95m'X'\u001b[0m \u001b[92m'O'\u001b[0m \u001b[92m'O'\u001b[0m \u001b[95m'X'\u001b[0m \u001b[92m'O'\u001b[0m ' ']]\n",
      "\n",
      "Game: 0 Move: \u001b[95mX\u001b[0m (47 ms) \n",
      "\n",
      "Value:   -0.02\n",
      "Q value: -0.84 \n",
      "\n",
      "Policy:      | 0.00 | 1.00 | 0.00 | 0.00 | 0.00 | 0.00 | 0.00 |\n",
      "Policy pred: | 0.12 | 0.12 | 0.15 | 0.20 | 0.10 | 0.17 | 0.14 |\n",
      "\n",
      "[[' ' ' ' ' ' ' ' ' ' ' ' ' ']\n",
      " [' ' ' ' \u001b[95m'X'\u001b[0m ' ' ' ' ' ' ' ']\n",
      " [' ' ' ' \u001b[92m'O'\u001b[0m ' ' ' ' ' ' ' ']\n",
      " [' ' \u001b[95m'X'\u001b[0m \u001b[95m'X'\u001b[0m \u001b[95m'X'\u001b[0m ' ' ' ' ' ']\n",
      " [\u001b[95m'X'\u001b[0m \u001b[95m'X'\u001b[0m \u001b[95m'X'\u001b[0m \u001b[92m'O'\u001b[0m \u001b[92m'O'\u001b[0m \u001b[92m'O'\u001b[0m ' ']\n",
      " [\u001b[92m'O'\u001b[0m \u001b[95m'X'\u001b[0m \u001b[92m'O'\u001b[0m \u001b[92m'O'\u001b[0m \u001b[95m'X'\u001b[0m \u001b[92m'O'\u001b[0m ' ']]\n",
      "\n",
      "Game: 0 Move: \u001b[92mO\u001b[0m (24 ms) \n",
      "\n",
      "Value:   0.0\n",
      "Q value: -0.87 \n",
      "\n",
      "Policy:      | 0.48 | 0.19 | 0.04 | 0.24 | 0.02 | 0.03 | 0.01 |\n",
      "Policy pred: | 0.15 | 0.13 | 0.14 | 0.14 | 0.13 | 0.15 | 0.16 |\n",
      "\n",
      "[[' ' ' ' ' ' ' ' ' ' ' ' ' ']\n",
      " [' ' ' ' \u001b[95m'X'\u001b[0m ' ' ' ' ' ' ' ']\n",
      " [' ' ' ' \u001b[92m'O'\u001b[0m ' ' ' ' ' ' ' ']\n",
      " [\u001b[92m'O'\u001b[0m \u001b[95m'X'\u001b[0m \u001b[95m'X'\u001b[0m \u001b[95m'X'\u001b[0m ' ' ' ' ' ']\n",
      " [\u001b[95m'X'\u001b[0m \u001b[95m'X'\u001b[0m \u001b[95m'X'\u001b[0m \u001b[92m'O'\u001b[0m \u001b[92m'O'\u001b[0m \u001b[92m'O'\u001b[0m ' ']\n",
      " [\u001b[92m'O'\u001b[0m \u001b[95m'X'\u001b[0m \u001b[92m'O'\u001b[0m \u001b[92m'O'\u001b[0m \u001b[95m'X'\u001b[0m \u001b[92m'O'\u001b[0m ' ']]\n",
      "\n",
      "Game: 0 Move: \u001b[95mX\u001b[0m (31 ms) \n",
      "\n",
      "Value:   -0.02\n",
      "Q value: -0.99 \n",
      "\n",
      "Policy:      | 0.00 | 0.33 | 0.00 | 0.00 | 0.67 | 0.00 | 0.00 |\n",
      "Policy pred: | 0.12 | 0.12 | 0.16 | 0.20 | 0.10 | 0.16 | 0.14 |\n",
      "\n",
      "[[' ' ' ' ' ' ' ' ' ' ' ' ' ']\n",
      " [' ' ' ' \u001b[95m'X'\u001b[0m ' ' ' ' ' ' ' ']\n",
      " [' ' \u001b[95m'X'\u001b[0m \u001b[92m'O'\u001b[0m ' ' ' ' ' ' ' ']\n",
      " [\u001b[92m'O'\u001b[0m \u001b[95m'X'\u001b[0m \u001b[95m'X'\u001b[0m \u001b[95m'X'\u001b[0m ' ' ' ' ' ']\n",
      " [\u001b[95m'X'\u001b[0m \u001b[95m'X'\u001b[0m \u001b[95m'X'\u001b[0m \u001b[92m'O'\u001b[0m \u001b[92m'O'\u001b[0m \u001b[92m'O'\u001b[0m ' ']\n",
      " [\u001b[92m'O'\u001b[0m \u001b[95m'X'\u001b[0m \u001b[92m'O'\u001b[0m \u001b[92m'O'\u001b[0m \u001b[95m'X'\u001b[0m \u001b[92m'O'\u001b[0m ' ']]\n",
      "\n",
      "X won \n",
      "\n"
     ]
    }
   ],
   "source": [
    "Simulation.self_play(simulation, 0)"
   ]
  },
  {
   "cell_type": "code",
   "execution_count": null,
   "metadata": {},
   "outputs": [],
   "source": []
  },
  {
   "cell_type": "code",
   "execution_count": null,
   "metadata": {},
   "outputs": [],
   "source": []
  },
  {
   "cell_type": "code",
   "execution_count": null,
   "metadata": {},
   "outputs": [],
   "source": []
  },
  {
   "cell_type": "code",
   "execution_count": null,
   "metadata": {},
   "outputs": [],
   "source": []
  },
  {
   "cell_type": "code",
   "execution_count": null,
   "metadata": {},
   "outputs": [],
   "source": []
  },
  {
   "cell_type": "code",
   "execution_count": 141,
   "metadata": {},
   "outputs": [
    {
     "name": "stdout",
     "output_type": "stream",
     "text": [
      "[[' ' ' ' ' ' ' ' ' ' ' ' ' ']\n",
      " [' ' ' ' ' ' ' ' ' ' ' ' ' ']\n",
      " [' ' ' ' ' ' ' ' ' ' ' ' ' ']\n",
      " [' ' ' ' ' ' ' ' ' ' ' ' ' ']\n",
      " [\u001b[92m'O'\u001b[0m \u001b[92m'O'\u001b[0m ' ' ' ' ' ' ' ' ' ']\n",
      " [\u001b[92m'O'\u001b[0m \u001b[92m'O'\u001b[0m ' ' ' ' \u001b[95m'X'\u001b[0m \u001b[95m'X'\u001b[0m \u001b[95m'X'\u001b[0m]]\n",
      "Current player: -1\n",
      "[20. 17. 17. 42. 18. 17. 18.]\n",
      "[0. 0. 0. 1. 0. 0. 0.]\n"
     ]
    }
   ],
   "source": [
    "game = Game()\n",
    "game.play(0)\n",
    "game.play(6)\n",
    "game.play(0)\n",
    "game.play(5)\n",
    "game.play(1)\n",
    "game.play(4)\n",
    "game.play(1)\n",
    "game.presentation()\n",
    "\n",
    "print('Current player:', game.player)\n",
    "root = Node(game)\n",
    "root = mcts(root, 150, net)\n",
    "\n",
    "print(root.child_number_visits)\n",
    "print(Simulation.get_policy(root, .1))"
   ]
  },
  {
   "cell_type": "code",
   "execution_count": null,
   "metadata": {},
   "outputs": [],
   "source": []
  },
  {
   "cell_type": "code",
   "execution_count": null,
   "metadata": {},
   "outputs": [],
   "source": []
  },
  {
   "cell_type": "code",
   "execution_count": null,
   "metadata": {},
   "outputs": [],
   "source": []
  },
  {
   "cell_type": "code",
   "execution_count": null,
   "metadata": {},
   "outputs": [],
   "source": []
  },
  {
   "cell_type": "code",
   "execution_count": null,
   "metadata": {},
   "outputs": [],
   "source": []
  },
  {
   "cell_type": "code",
   "execution_count": null,
   "metadata": {},
   "outputs": [],
   "source": []
  },
  {
   "cell_type": "code",
   "execution_count": null,
   "metadata": {},
   "outputs": [],
   "source": []
  },
  {
   "cell_type": "code",
   "execution_count": null,
   "metadata": {},
   "outputs": [],
   "source": []
  },
  {
   "cell_type": "code",
   "execution_count": null,
   "metadata": {},
   "outputs": [],
   "source": []
  },
  {
   "cell_type": "code",
   "execution_count": null,
   "metadata": {},
   "outputs": [],
   "source": []
  },
  {
   "cell_type": "code",
   "execution_count": null,
   "metadata": {},
   "outputs": [],
   "source": []
  },
  {
   "cell_type": "code",
   "execution_count": null,
   "metadata": {},
   "outputs": [],
   "source": []
  },
  {
   "cell_type": "code",
   "execution_count": null,
   "metadata": {},
   "outputs": [],
   "source": []
  },
  {
   "cell_type": "code",
   "execution_count": 11,
   "metadata": {
    "scrolled": false
   },
   "outputs": [
    {
     "name": "stdout",
     "output_type": "stream",
     "text": [
      "Loaded network: \u001b[94mDeepFour-V1-current\u001b[0m\n"
     ]
    },
    {
     "data": {
      "image/png": "[encoded data removed]",
      "text/plain": [
       "<Figure size 432x10800 with 225 Axes>"
      ]
     },
     "metadata": {
      "needs_background": "light"
     },
     "output_type": "display_data"
    }
   ],
   "source": [
    "net = ConnectNet('DeepFour-V1')\n",
    "net.load('current')\n",
    "\n",
    "layer  = net.model.layers[1]\n",
    "\n",
    "x = layer.get_weights()\n",
    "\n",
    "weights = x[0]\n",
    "s = weights.shape\n",
    "\n",
    "fig = plt.figure(figsize=(s[2]*2, s[3]*2))  # width, height in inches\n",
    "channel = 0\n",
    "filter = 0\n",
    "for i in range(s[2] * s[3]):\n",
    "    sub = fig.add_subplot(s[3], s[2], i + 1)\n",
    "    sub.imshow(weights[:, :, channel, filter], cmap='coolwarm', clim=(-1, 1), aspect=\"auto\")\n",
    "    plt.axis('off')\n",
    "    channel = (channel + 1) % s[2]\n",
    "    filter = (filter + 1) % s[3]"
   ]
  }
 ],
 "metadata": {
  "kernelspec": {
   "display_name": "Python 3",
   "language": "python",
   "name": "python3"
  },
  "language_info": {
   "codemirror_mode": {
    "name": "ipython",
    "version": 3
   },
   "file_extension": ".py",
   "mimetype": "text/x-python",
   "name": "python",
   "nbconvert_exporter": "python",
   "pygments_lexer": "ipython3",
   "version": "3.7.3"
  }
 },
 "nbformat": 4,
 "nbformat_minor": 2
}
