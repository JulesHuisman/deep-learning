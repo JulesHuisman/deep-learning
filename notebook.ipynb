{
 "cells": [
  {
   "cell_type": "code",
   "execution_count": 1,
   "metadata": {},
   "outputs": [],
   "source": [
    "import pandas as pd\n",
    "import numpy as np\n",
    "import seaborn as sns\n",
    "\n",
    "from metaflow import Flow, get_metadata\n",
    "from matplotlib import pyplot as plt"
   ]
  },
  {
   "cell_type": "code",
   "execution_count": 31,
   "metadata": {},
   "outputs": [
    {
     "data": {
      "text/plain": [
       "{'A': array([[47.68, 44.41, 41.01, ..., 44.1 , 43.17, 42.02],\n",
       "        [44.41, 41.01, 38.47, ..., 43.17, 42.02, 42.4 ],\n",
       "        [41.01, 38.47, 37.01, ..., 42.02, 42.4 , 42.25],\n",
       "        ...,\n",
       "        [88.62, 89.46, 90.12, ..., 82.56, 82.15, 83.52],\n",
       "        [89.46, 90.12, 89.61, ..., 82.15, 83.52, 84.93],\n",
       "        [90.12, 89.61, 90.13, ..., 83.52, 84.93, 84.82]]),\n",
       " 'GOOG': array([[  49.98,   53.95,   54.5 , ...,   49.82,   50.6 ,   50.96],\n",
       "        [  53.95,   54.5 ,   52.24, ...,   50.6 ,   50.96,   50.96],\n",
       "        [  54.5 ,   52.24,   52.8 , ...,   50.96,   50.96,   52.47],\n",
       "        ...,\n",
       "        [1439.2 , 1451.7 , 1480.39, ..., 1434.23, 1485.94, 1447.07],\n",
       "        [1451.7 , 1480.39, 1484.4 , ..., 1485.94, 1447.07, 1448.23],\n",
       "        [1480.39, 1484.4 , 1485.95, ..., 1447.07, 1448.23, 1476.23]]),\n",
       " 'INTC': array([[26.37, 27.88, 26.57, ..., 32.72, 32.06, 30.64],\n",
       "        [27.88, 26.57, 26.8 , ..., 32.06, 30.64, 31.38],\n",
       "        [26.57, 26.8 , 25.23, ..., 30.64, 31.38, 31.66],\n",
       "        ...,\n",
       "        [58.65, 59.37, 59.31, ..., 63.62, 64.1 , 65.14],\n",
       "        [59.37, 59.31, 60.25, ..., 64.1 , 65.14, 67.01],\n",
       "        [59.31, 60.25, 62.42, ..., 65.14, 67.01, 67.09]]),\n",
       " 'TSLA': array([[ 23.89,  23.83,  21.96, ...,  19.89,  20.64,  21.91],\n",
       "        [ 23.83,  21.96,  19.2 , ...,  20.64,  21.91,  20.3 ],\n",
       "        [ 21.96,  19.2 ,  16.11, ...,  21.91,  20.3 ,  20.22],\n",
       "        ...,\n",
       "        [518.5 , 513.49, 510.5 , ..., 650.57, 780.  , 887.06],\n",
       "        [513.49, 510.5 , 547.2 , ..., 780.  , 887.06, 734.7 ],\n",
       "        [510.5 , 547.2 , 569.56, ..., 887.06, 734.7 , 748.96]]),\n",
       " 'MSFT': array([[ 37.56,  37.5 ,  36.23, ...,  37.09,  34.42,  34.1 ],\n",
       "        [ 37.5 ,  36.23,  36.61, ...,  34.42,  34.1 ,  33.37],\n",
       "        [ 36.23,  36.61,  35.38, ...,  34.1 ,  33.37,  32.57],\n",
       "        ...,\n",
       "        [163.18, 166.17, 167.1 , ..., 170.23, 174.38, 180.12],\n",
       "        [166.17, 167.1 , 166.5 , ..., 174.38, 180.12, 179.9 ],\n",
       "        [167.1 , 166.5 , 165.7 , ..., 180.12, 179.9 , 183.63]])}"
      ]
     },
     "execution_count": 31,
     "metadata": {},
     "output_type": "execute_result"
    }
   ],
   "source": [
    "run = Flow('TraderFlow').latest_successful_run\n",
    "data = run.data.stocks\n",
    "data"
   ]
  },
  {
   "cell_type": "code",
   "execution_count": 30,
   "metadata": {},
   "outputs": [
    {
     "data": {
      "text/plain": [
       "5044"
      ]
     },
     "execution_count": 30,
     "metadata": {},
     "output_type": "execute_result"
    }
   ],
   "source": [
    "len(data['MSFT'])"
   ]
  },
  {
   "cell_type": "code",
   "execution_count": 22,
   "metadata": {},
   "outputs": [
    {
     "data": {
      "text/plain": [
       "42.01999930000001"
      ]
     },
     "execution_count": 22,
     "metadata": {},
     "output_type": "execute_result"
    }
   ],
   "source": [
    "(-0.38289362 * 235) + 132"
   ]
  },
  {
   "cell_type": "code",
   "execution_count": 23,
   "metadata": {},
   "outputs": [],
   "source": [
    "from utils import normalize"
   ]
  },
  {
   "cell_type": "code",
   "execution_count": 28,
   "metadata": {},
   "outputs": [
    {
     "data": {
      "text/plain": [
       "array([[-0.38289362, -0.3812766 , -0.38191489, -0.20629787, -0.20029787,\n",
       "        -0.20076596]])"
      ]
     },
     "execution_count": 28,
     "metadata": {},
     "output_type": "execute_result"
    }
   ],
   "source": [
    "normalize(np.array([np.array([42.02, 42.4 , 42.25, 83.52, 84.93, 84.82])]))"
   ]
  },
  {
   "cell_type": "code",
   "execution_count": 8,
   "metadata": {},
   "outputs": [
    {
     "data": {
      "text/plain": [
       "array([42.02, 42.4 , 42.25, ..., 83.52, 84.93, 84.82])"
      ]
     },
     "execution_count": 8,
     "metadata": {},
     "output_type": "execute_result"
    }
   ],
   "source": [
    "list(data.values())[0][:,-1]"
   ]
  },
  {
   "cell_type": "code",
   "execution_count": 18,
   "metadata": {},
   "outputs": [
    {
     "data": {
      "text/plain": [
       "235.50982183514304"
      ]
     },
     "execution_count": 18,
     "metadata": {},
     "output_type": "execute_result"
    }
   ],
   "source": [
    "all = np.concatenate([stocks[:,-1] for stocks in data.values()])\n",
    "np.std(all)"
   ]
  },
  {
   "cell_type": "code",
   "execution_count": null,
   "metadata": {},
   "outputs": [],
   "source": []
  }
 ],
 "metadata": {
  "kernelspec": {
   "display_name": "Python 3",
   "language": "python",
   "name": "python3"
  },
  "language_info": {
   "codemirror_mode": {
    "name": "ipython",
    "version": 3
   },
   "file_extension": ".py",
   "mimetype": "text/x-python",
   "name": "python",
   "nbconvert_exporter": "python",
   "pygments_lexer": "ipython3",
   "version": "3.7.3"
  }
 },
 "nbformat": 4,
 "nbformat_minor": 2
}
